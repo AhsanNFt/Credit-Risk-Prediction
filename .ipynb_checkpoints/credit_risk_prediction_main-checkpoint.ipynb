{
 "cells": [
  {
   "cell_type": "markdown",
   "id": "239da5ec",
   "metadata": {},
   "source": [
    "# Task 2: Credit Risk Prediction\n",
    "Predict whether a loan application will be approved based on demographic and financial features.\n",
    "This task uses the **Loan Prediction Dataset** (train.csv & test.csv)."
   ]
  },
  {
   "cell_type": "code",
   "execution_count": null,
   "id": "b34a7c3f",
   "metadata": {},
   "outputs": [],
   "source": [
    "#  Import required libraries\n",
    "import pandas as pd\n",
    "import numpy as np\n",
    "import matplotlib.pyplot as plt\n",
    "import seaborn as sns\n",
    "from sklearn.model_selection import train_test_split\n",
    "from sklearn.preprocessing import LabelEncoder\n",
    "from sklearn.ensemble import RandomForestClassifier\n",
    "from sklearn.metrics import accuracy_score, confusion_matrix, classification_report,ConfusionMatrixDisplay"
   ]
  },
  {
   "cell_type": "code",
   "execution_count": null,
   "id": "f2ebb3a8",
   "metadata": {},
   "outputs": [],
   "source": [
    "#  Load training data\n",
    "df = pd.read_csv('data/train.csv')\n",
    "df.head()"
   ]
  },
  {
   "cell_type": "markdown",
   "id": "8108b9d1",
   "metadata": {},
   "source": [
    "###  Dataset Understanding\n",
    "- Target: Loan_Status (Y = approved, N = not approved)\n",
    "\n",
    "- Inputs: Features like ApplicantIncome, Education, Credit_History, etc.\n",
    "\n",
    "- Issues:\n",
    "\n",
    "  - Some columns have missing values.\n",
    "\n",
    "  - Categorical data (like gender, education) needs to be converted to numbers."
   ]
  },
  {
   "cell_type": "markdown",
   "id": "c964c751-fe78-43d9-8286-8bf45a8fda6f",
   "metadata": {},
   "source": [
    "# Data Cleaning and Preparation"
   ]
  },
  {
   "cell_type": "markdown",
   "id": "e6328a16-e5f1-4b86-a7d7-c0f54e096411",
   "metadata": {},
   "source": [
    "#### Handle Missing Values"
   ]
  },
  {
   "cell_type": "code",
   "execution_count": null,
   "id": "b319b995",
   "metadata": {},
   "outputs": [],
   "source": [
    "# Impute categorical features with mode\n",
    "cat_features = ['Gender', 'Married', 'Dependents', 'Self_Employed', 'Credit_History', 'Loan_Amount_Term']\n",
    "for col in cat_features:\n",
    "    df[col].fillna(df[col].mode()[0], inplace=True)\n"
   ]
  },
  {
   "cell_type": "code",
   "execution_count": null,
   "id": "92acaf47-992a-4f99-8d46-6018f8559258",
   "metadata": {},
   "outputs": [],
   "source": [
    "# Impute numerical features with median\n",
    "df['LoanAmount'].fillna(df['LoanAmount'].median(), inplace=True)\n"
   ]
  },
  {
   "cell_type": "markdown",
   "id": "39158852-7d39-45c9-bcec-1cf2996db9d9",
   "metadata": {},
   "source": [
    "#### Encode Categorical Variables ####"
   ]
  },
  {
   "cell_type": "code",
   "execution_count": null,
   "id": "1c8e09a7",
   "metadata": {},
   "outputs": [],
   "source": [
    "# Label Encoding for binary categorical variables\n",
    "le = LabelEncoder()\n",
    "for col in ['Gender', 'Married', 'Education', 'Self_Employed', 'Loan_Status']:\n",
    "    df[col] = le.fit_transform(df[col])\n",
    "\n",
    "# One-hot encoding for multiclass variables\n",
    "df = pd.get_dummies(df, columns=['Dependents', 'Property_Area'], drop_first=True)\n"
   ]
  },
  {
   "cell_type": "code",
   "execution_count": null,
   "id": "a6b59a2f-aadd-4b25-8c6d-70e3f2490cfb",
   "metadata": {},
   "outputs": [],
   "source": [
    "df.head()"
   ]
  },
  {
   "cell_type": "code",
   "execution_count": null,
   "id": "07fafcde",
   "metadata": {},
   "outputs": [],
   "source": [
    "# Define input (X) and target (y)\n",
    "X = df.drop(columns=['Loan_Status', 'Loan_ID'])\n",
    "y = df['Loan_Status']"
   ]
  },
  {
   "cell_type": "markdown",
   "id": "2cff81a1",
   "metadata": {},
   "source": [
    "#  Exploratory Data Analysis (EDA)\n",
    "Feature distributions and relationships with the target."
   ]
  },
  {
   "cell_type": "code",
   "execution_count": null,
   "id": "afe718f9",
   "metadata": {},
   "outputs": [],
   "source": [
    "# Plot Credit History vs Loan Status\n",
    "sns.countplot(data=df, x='Credit_History', hue='Loan_Status')\n",
    "plt.title('Loan Status by Credit History')\n",
    "plt.show()"
   ]
  },
  {
   "cell_type": "markdown",
   "id": "a318fc18-8447-4f3b-82b3-1890149a7a14",
   "metadata": {},
   "source": [
    "The above graph shows:\n",
    "- People with good credit history (1) mostly got their loans approved.\n",
    "- People with bad credit history (0) mostly got their loans rejected.\n",
    "\n",
    "Conclusion:\n",
    "Good credit history = higher chance of loan approval."
   ]
  },
  {
   "cell_type": "markdown",
   "id": "6191cd97-2484-42a8-98ca-6ae6251c73b6",
   "metadata": {},
   "source": [
    "# Model Training and Testing\n",
    "This section focuses on training classification models to predict loan approval status. We will use Logistic Regression and Decision Tree Classifier, two commonly used algorithms for binary classification tasks."
   ]
  },
  {
   "cell_type": "code",
   "execution_count": null,
   "id": "5931f225",
   "metadata": {},
   "outputs": [],
   "source": [
    "# Data Splitting\n",
    "# Split and train a Random Forest Classifier\n",
    "X_train, X_test, y_train, y_test = train_test_split(X, y, test_size=0.2, random_state=42)\n",
    "\n",
    "model = RandomForestClassifier(max_depth=5, random_state=42)\n",
    "model.fit(X_train, y_train)\n",
    "y_pred = model.predict(X_test)"
   ]
  },
  {
   "cell_type": "markdown",
   "id": "43111799-3ee3-4e52-86a9-0c15b9bc4bb7",
   "metadata": {},
   "source": [
    "#### Trainig Classification Model"
   ]
  },
  {
   "cell_type": "markdown",
   "id": "3800c5e6-3f37-41bf-87a7-66b68f4cc5a6",
   "metadata": {},
   "source": [
    "##### Logistic Regression"
   ]
  },
  {
   "cell_type": "code",
   "execution_count": null,
   "id": "c2dd550b",
   "metadata": {},
   "outputs": [],
   "source": [
    "#  Train Logistic Regression\n",
    "lr = LogisticRegression(max_iter=1000)\n",
    "lr.fit(X_train, y_train)\n",
    "y_pred_lr = lr.predict(X_test)\n"
   ]
  },
  {
   "cell_type": "markdown",
   "id": "dd10300a-fc72-44f0-a343-072eb72922c0",
   "metadata": {},
   "source": [
    "##### Decision Tree"
   ]
  },
  {
   "cell_type": "code",
   "execution_count": null,
   "id": "f380a75a-3b5e-429c-a879-5de974d49081",
   "metadata": {},
   "outputs": [],
   "source": [
    "#  Train Decision Tree\n",
    "dt = DecisionTreeClassifier(random_state=42)\n",
    "dt.fit(X_train, y_train)\n",
    "y_pred_dt = dt.predict(X_test)\n"
   ]
  },
  {
   "cell_type": "markdown",
   "id": "83ca4ffa-3643-4e8b-bc9f-a3db60e04867",
   "metadata": {},
   "source": [
    "#### Model Evaluation"
   ]
  },
  {
   "cell_type": "markdown",
   "id": "edb64b7d-a274-4fdb-9c0c-e78b12b37116",
   "metadata": {},
   "source": [
    "#####   Logistic Regression Evaluation\n"
   ]
  },
  {
   "cell_type": "code",
   "execution_count": null,
   "id": "6c7a5a7f-263d-4b15-b4a8-f1c0d687a542",
   "metadata": {},
   "outputs": [],
   "source": [
    "\n",
    "# Confusion Matrix with light shades\n",
    "cm_lr = confusion_matrix(y_test, y_pred_lr)\n",
    "labels = ['Not Approved', 'Approved']\n",
    "cmap_lr = sns.light_palette(\"seagreen\", as_cmap=True)  # pastel green\n",
    "\n",
    "fig, ax = plt.subplots(figsize=(6, 4))\n",
    "ConfusionMatrixDisplay(confusion_matrix=cm_lr, display_labels=labels).plot(ax=ax, cmap=cmap_lr, colorbar=True)\n",
    "plt.title(\"Logistic Regression Confusion Matrix\", fontsize=14)\n",
    "plt.grid(False)\n",
    "plt.show()\n",
    "\n",
    "# For Logistic Regression\n",
    "accuracy_lr = accuracy_score(y_test, y_pred_lr) * 100\n",
    "print(f\"Logistic Regression Accuracy: {accuracy_lr:.2f}%\")\n"
   ]
  },
  {
   "cell_type": "markdown",
   "id": "3295b27b-a712-463c-bbc4-56760cf99ebf",
   "metadata": {},
   "source": [
    "##### Decision Tree Evaluation"
   ]
  },
  {
   "cell_type": "code",
   "execution_count": null,
   "id": "ac41a5af-8b48-474b-b55a-d63e541129bf",
   "metadata": {},
   "outputs": [],
   "source": [
    "\n",
    "# Confusion Matrix with light shades\n",
    "cm_dt = confusion_matrix(y_test, y_pred_dt)\n",
    "cmap_dt = sns.light_palette(\"dodgerblue\", as_cmap=True)  # pastel blue\n",
    "\n",
    "fig, ax = plt.subplots(figsize=(6, 4))\n",
    "ConfusionMatrixDisplay(confusion_matrix=cm_dt, display_labels=labels).plot(ax=ax, cmap=cmap_dt, colorbar=True)\n",
    "plt.title(\"Decision Tree Confusion Matrix\", fontsize=14)\n",
    "plt.grid(False)\n",
    "plt.show()\n",
    "\n",
    "\n",
    "# Accuracy\n",
    "accuracy_dt = accuracy_score(y_test, y_pred_dt) * 100\n",
    "print(f\" Decision Tree Accuracy: {accuracy_dt:.2f}%\")\n"
   ]
  },
  {
   "cell_type": "markdown",
   "id": "de849435",
   "metadata": {},
   "source": [
    "# Conclusion\n",
    "- Accuracy: Indicates overall performance of classification.\n",
    "- Credit history is a strong predictor of loan approval.\n",
    "- Model can be further improved using hyperparameter tuning or boosting algorithms."
   ]
  },
  {
   "cell_type": "code",
   "execution_count": null,
   "id": "f115be23-48b4-49d8-aff7-c52dedaf28be",
   "metadata": {},
   "outputs": [],
   "source": []
  },
  {
   "cell_type": "markdown",
   "id": "1284dfb8-91ab-430b-97fc-fec064000dd0",
   "metadata": {},
   "source": [
    "##### Usage Example"
   ]
  },
  {
   "cell_type": "code",
   "execution_count": null,
   "id": "bb4db26f-362f-4200-8c18-9add7e84ac8f",
   "metadata": {},
   "outputs": [],
   "source": [
    "#  Define a new applicant (must match the training feature structure!)\n",
    "new_applicant = {\n",
    "    'Gender': 1,                # Male\n",
    "    'Married': 1,               # Married\n",
    "    'Education': 0,             # Graduate\n",
    "    'Self_Employed': 0,         # Not self-employed\n",
    "    'ApplicantIncome': 5000,\n",
    "    'CoapplicantIncome': 1500,\n",
    "    'LoanAmount': 130,\n",
    "    'Loan_Amount_Term': 360.0,\n",
    "    'Credit_History': 1.0,\n",
    "    'Dependents_1': 0,\n",
    "    'Dependents_2': 0,\n",
    "    'Dependents_3+': 0,\n",
    "    'Property_Area_Semiurban': 1,\n",
    "    'Property_Area_Urban': 0\n",
    "}\n",
    "\n",
    "#  Convert to DataFrame for prediction\n",
    "new_applicant_df = pd.DataFrame([new_applicant])\n",
    "\n",
    "#  Predict using the trained model (Logistic Regression or Decision Tree)\n",
    "predicted_status = lr.predict(new_applicant_df)[0]  # Or use dt.predict()\n",
    "\n",
    "#  Interpret the result\n",
    "print(\"Loan Status Prediction:\", \"Approved ✅\" if predicted_status == 1 else \"Rejected ❌\")\n"
   ]
  },
  {
   "cell_type": "code",
   "execution_count": null,
   "id": "ea07271b-dba9-4e63-867c-5513973f176a",
   "metadata": {},
   "outputs": [],
   "source": []
  },
  {
   "cell_type": "code",
   "execution_count": null,
   "id": "b2a7e80b-5840-4348-ab05-a3b1432a9cb1",
   "metadata": {},
   "outputs": [],
   "source": []
  }
 ],
 "metadata": {
  "kernelspec": {
   "display_name": "Python 3 (ipykernel)",
   "language": "python",
   "name": "python3"
  },
  "language_info": {
   "codemirror_mode": {
    "name": "ipython",
    "version": 3
   },
   "file_extension": ".py",
   "mimetype": "text/x-python",
   "name": "python",
   "nbconvert_exporter": "python",
   "pygments_lexer": "ipython3",
   "version": "3.8.10"
  }
 },
 "nbformat": 4,
 "nbformat_minor": 5
}
